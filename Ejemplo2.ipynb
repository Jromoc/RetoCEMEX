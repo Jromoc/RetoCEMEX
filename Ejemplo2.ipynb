{
 "cells": [
  {
   "cell_type": "code",
   "execution_count": 20,
   "metadata": {},
   "outputs": [],
   "source": [
    "import os\n",
    "import glob\n",
    "import fitz\n",
    "from sentence_transformers import SentenceTransformer\n",
    "from annoy import AnnoyIndex\n"
   ]
  },
  {
   "cell_type": "code",
   "execution_count": 21,
   "metadata": {},
   "outputs": [],
   "source": [
    "# Ruta al directorio que contiene los archivos PDF\n",
    "pdf_dir = \"C:/Users/sebas/OneDrive/Documentos/Codigos Cemex/pdf\"\n",
    "\n",
    "# Ruta al modelo, por ejemplo, 'clip-ViT-L-14'\n",
    "model_path = \"clip-ViT-L-14\"\n",
    "\n",
    "# Cargar el modelo SentenceTransformer\n",
    "model = SentenceTransformer(model_path)"
   ]
  },
  {
   "cell_type": "code",
   "execution_count": 22,
   "metadata": {},
   "outputs": [],
   "source": [
    "def extraer_texto_de_pdf(pdf_path, max_length=77):\n",
    "    texto = \"\"\n",
    "    try:\n",
    "        with fitz.open(pdf_path) as archivo_pdf:\n",
    "            for num_pagina in range(len(archivo_pdf)):\n",
    "                pagina = archivo_pdf[num_pagina]\n",
    "                texto_pagina = pagina.get_text()\n",
    "                # Truncar el texto de la página si es necesario\n",
    "                if len(texto) + len(texto_pagina) > max_length:\n",
    "                    texto_pagina = texto_pagina[:max_length - len(texto)]\n",
    "                texto += texto_pagina\n",
    "    except Exception as e:\n",
    "        print(f\"Error al leer el archivo PDF {pdf_path}: {e}\")\n",
    "    return texto\n",
    "\n"
   ]
  },
  {
   "cell_type": "code",
   "execution_count": 23,
   "metadata": {},
   "outputs": [],
   "source": [
    "# Función para buscar en los archivos PDF\n",
    "def buscar_en_archivos_pdf(consulta):\n",
    "    archivos = glob.glob(os.path.join(pdf_dir, \"*.pdf\"))\n",
    "\n",
    "    # Indexar archivos PDF\n",
    "    annoy_index = AnnoyIndex(768, metric='angular')\n",
    "    for idx, archivo in enumerate(archivos):\n",
    "        texto = extraer_texto_de_pdf(archivo)\n",
    "        incrustacion = model.encode([texto])[0]\n",
    "        annoy_index.add_item(idx, incrustacion)\n",
    "    annoy_index.build(10)\n",
    "\n",
    "    # Codificar la consulta y encontrar archivos PDF similares\n",
    "    incrustacion_consulta = model.encode([consulta])[0]\n",
    "    indices_mas_cercanos, distancias_mas_cercanas = annoy_index.get_nns_by_vector(incrustacion_consulta, 5, include_distances=True)\n",
    "\n",
    "    # Mostrar o procesar los archivos PDF más cercanos\n",
    "    resultados = []\n",
    "    for idx, distancia in zip(indices_mas_cercanos, distancias_mas_cercanas):\n",
    "        resultados.append((archivos[idx], distancia))\n",
    "    return resultados\n",
    "\n",
    "\n"
   ]
  },
  {
   "cell_type": "code",
   "execution_count": 24,
   "metadata": {},
   "outputs": [
    {
     "name": "stdout",
     "output_type": "stream",
     "text": [
      "('C:/Users/sebas/OneDrive/Documentos/Codigos Cemex/pdf\\\\Ejemplo1.pdf', 0.7448084354400635)\n",
      "('C:/Users/sebas/OneDrive/Documentos/Codigos Cemex/pdf\\\\Ejemplo2.pdf', 0.7448084354400635)\n",
      "('C:/Users/sebas/OneDrive/Documentos/Codigos Cemex/pdf\\\\Ejemplo3.pdf', 0.9151697754859924)\n"
     ]
    }
   ],
   "source": [
    "# Consulta de búsqueda\n",
    "consulta = \"ALQUILER DE VEHÍCULOS\"\n",
    "\n",
    "# Realizar la búsqueda\n",
    "resultados = buscar_en_archivos_pdf(consulta)\n",
    "\n",
    "# Mostrar resultados\n",
    "for resultado in resultados:\n",
    "    print(resultado)"
   ]
  }
 ],
 "metadata": {
  "kernelspec": {
   "display_name": "Python 3",
   "language": "python",
   "name": "python3"
  },
  "language_info": {
   "codemirror_mode": {
    "name": "ipython",
    "version": 3
   },
   "file_extension": ".py",
   "mimetype": "text/x-python",
   "name": "python",
   "nbconvert_exporter": "python",
   "pygments_lexer": "ipython3",
   "version": "3.12.3"
  }
 },
 "nbformat": 4,
 "nbformat_minor": 2
}
