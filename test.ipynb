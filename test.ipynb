{
 "cells": [
  {
   "cell_type": "code",
   "execution_count": 1,
   "metadata": {},
   "outputs": [
    {
     "name": "stderr",
     "output_type": "stream",
     "text": [
      "c:\\Users\\josee\\AppData\\Local\\Programs\\Python\\Python312\\Lib\\site-packages\\tqdm\\auto.py:21: TqdmWarning: IProgress not found. Please update jupyter and ipywidgets. See https://ipywidgets.readthedocs.io/en/stable/user_install.html\n",
      "  from .autonotebook import tqdm as notebook_tqdm\n"
     ]
    }
   ],
   "source": [
    "from transformers import BertModel, BertTokenizer\n",
    "from sentence_transformers import SentenceTransformer\n",
    "from annoy import AnnoyIndex\n",
    "import glob\n",
    "import os\n",
    "import fitz"
   ]
  },
  {
   "cell_type": "code",
   "execution_count": 10,
   "metadata": {},
   "outputs": [
    {
     "name": "stderr",
     "output_type": "stream",
     "text": [
      "No sentence-transformers model found with name bert-large-uncased. Creating a new one with MEAN pooling.\n",
      "c:\\Users\\josee\\AppData\\Local\\Programs\\Python\\Python312\\Lib\\site-packages\\huggingface_hub\\file_download.py:1132: FutureWarning: `resume_download` is deprecated and will be removed in version 1.0.0. Downloads always resume when possible. If you want to force a new download, use `force_download=True`.\n",
      "  warnings.warn(\n"
     ]
    },
    {
     "ename": "",
     "evalue": "",
     "output_type": "error",
     "traceback": [
      "\u001b[1;31mThe Kernel crashed while executing code in the current cell or a previous cell. \n",
      "\u001b[1;31mPlease review the code in the cell(s) to identify a possible cause of the failure. \n",
      "\u001b[1;31mClick <a href='https://aka.ms/vscodeJupyterKernelCrash'>here</a> for more info. \n",
      "\u001b[1;31mView Jupyter <a href='command:jupyter.viewOutput'>log</a> for further details."
     ]
    }
   ],
   "source": [
    "# Ruta al directorio que contiene los archivos PDF\n",
    "pdf_dir = \"C:/Users/josee/OneDrive/Documents/8vo Semestre/Reto/RetoCEMEX/PDF\"\n",
    "\n",
    "# Cargar el modelo SentenceTransformer\n",
    "model_path = \"bert-large-uncased\"\n",
    "model = SentenceTransformer(model_path)\n",
    "\n",
    "# Función para extraer texto de un archivo PDF\n",
    "def extraer_texto_de_pdf(pdf_path, max_length=512):\n",
    "    texto = \"\"\n",
    "    try:\n",
    "        with fitz.open(pdf_path) as archivo_pdf:\n",
    "            for num_pagina in range(len(archivo_pdf)):\n",
    "                pagina = archivo_pdf[num_pagina]\n",
    "                texto_pagina = pagina.get_text()\n",
    "                # Truncar el texto de la página si es necesario\n",
    "                if len(texto) + len(texto_pagina) > max_length:\n",
    "                    texto_pagina = texto_pagina[:max_length - len(texto)]\n",
    "                texto += texto_pagina\n",
    "                \n",
    "        embeddings = model.encode([texto])[0]\n",
    "                \n",
    "    except Exception as e:\n",
    "        print(f\"Error al leer el archivo PDF {pdf_path}: {e}\")\n",
    "    return texto\n",
    "\n",
    "\n",
    "# Función para buscar en los archivos PDF\n",
    "def buscar_en_archivos_pdf(consulta):\n",
    "    archivos = glob.glob(os.path.join(pdf_dir, \"*.pdf\"))\n",
    "\n",
    "    # Indexar archivos PDF\n",
    "    annoy_index = AnnoyIndex(1024, metric='angular')\n",
    "    for idx, archivo in enumerate(archivos):\n",
    "        texto = extraer_texto_de_pdf(archivo)\n",
    "        incrustacion = model.encode([texto])[0]\n",
    "        annoy_index.add_item(idx, incrustacion)\n",
    "    annoy_index.build(10)\n",
    "\n",
    "    # Codificar la consulta y encontrar archivos PDF similares\n",
    "    incrustacion_consulta = model.encode([consulta])[0]\n",
    "    indices_mas_cercanos, distancias_mas_cercanas = annoy_index.get_nns_by_vector(incrustacion_consulta, 5, include_distances=True)\n",
    "\n",
    "    # Mostrar o procesar los archivos PDF más cercanos\n",
    "    resultados = []\n",
    "    for idx, distancia in zip(indices_mas_cercanos, distancias_mas_cercanas):\n",
    "        resultados.append((archivos[idx], distancia))\n",
    "    return resultados\n",
    "\n"
   ]
  },
  {
   "cell_type": "code",
   "execution_count": null,
   "metadata": {},
   "outputs": [],
   "source": [
    "consulta = input(\"Palabra Clave sobre lo que busca: \")"
   ]
  },
  {
   "cell_type": "code",
   "execution_count": 9,
   "metadata": {},
   "outputs": [
    {
     "name": "stdout",
     "output_type": "stream",
     "text": [
      "('C:/Users/josee/OneDrive/Documents/8vo Semestre/Reto/RetoCEMEX/PDF\\\\Ejemplo3.pdf', 0.7202630043029785)\n",
      "('C:/Users/josee/OneDrive/Documents/8vo Semestre/Reto/RetoCEMEX/PDF\\\\Ejemplo2.pdf', 0.9634143710136414)\n",
      "('C:/Users/josee/OneDrive/Documents/8vo Semestre/Reto/RetoCEMEX/PDF\\\\Ejemplo1.pdf', 0.9785165786743164)\n"
     ]
    }
   ],
   "source": [
    "# Consulta de búsqueda\n",
    "#consulta = \"EJEMPLO DE FACTURA SIMPLE\"\n",
    "\n",
    "# Realizar la búsqueda\n",
    "resultados = buscar_en_archivos_pdf(consulta)\n",
    "\n",
    "# Mostrar resultados\n",
    "for resultado in resultados:\n",
    "    print(resultado)"
   ]
  }
 ],
 "metadata": {
  "kernelspec": {
   "display_name": "Python 3",
   "language": "python",
   "name": "python3"
  },
  "language_info": {
   "codemirror_mode": {
    "name": "ipython",
    "version": 3
   },
   "file_extension": ".py",
   "mimetype": "text/x-python",
   "name": "python",
   "nbconvert_exporter": "python",
   "pygments_lexer": "ipython3",
   "version": "3.12.3"
  }
 },
 "nbformat": 4,
 "nbformat_minor": 2
}
