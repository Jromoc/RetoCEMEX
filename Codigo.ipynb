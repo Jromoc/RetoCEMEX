{
 "cells": [
  {
   "cell_type": "code",
   "execution_count": 2,
   "metadata": {},
   "outputs": [
    {
     "name": "stdout",
     "output_type": "stream",
     "text": [
      "Requirement already satisfied: openai in c:\\users\\josee\\appdata\\local\\packages\\pythonsoftwarefoundation.python.3.10_qbz5n2kfra8p0\\localcache\\local-packages\\python310\\site-packages (1.28.0)\n",
      "Requirement already satisfied: anyio<5,>=3.5.0 in c:\\users\\josee\\appdata\\local\\packages\\pythonsoftwarefoundation.python.3.10_qbz5n2kfra8p0\\localcache\\local-packages\\python310\\site-packages (from openai) (4.3.0)\n",
      "Requirement already satisfied: distro<2,>=1.7.0 in c:\\users\\josee\\appdata\\local\\packages\\pythonsoftwarefoundation.python.3.10_qbz5n2kfra8p0\\localcache\\local-packages\\python310\\site-packages (from openai) (1.9.0)\n",
      "Requirement already satisfied: httpx<1,>=0.23.0 in c:\\users\\josee\\appdata\\local\\packages\\pythonsoftwarefoundation.python.3.10_qbz5n2kfra8p0\\localcache\\local-packages\\python310\\site-packages (from openai) (0.27.0)\n",
      "Requirement already satisfied: pydantic<3,>=1.9.0 in c:\\users\\josee\\appdata\\local\\packages\\pythonsoftwarefoundation.python.3.10_qbz5n2kfra8p0\\localcache\\local-packages\\python310\\site-packages (from openai) (2.7.1)\n",
      "Requirement already satisfied: sniffio in c:\\users\\josee\\appdata\\local\\packages\\pythonsoftwarefoundation.python.3.10_qbz5n2kfra8p0\\localcache\\local-packages\\python310\\site-packages (from openai) (1.3.1)\n",
      "Requirement already satisfied: tqdm>4 in c:\\users\\josee\\appdata\\local\\packages\\pythonsoftwarefoundation.python.3.10_qbz5n2kfra8p0\\localcache\\local-packages\\python310\\site-packages (from openai) (4.66.4)\n",
      "Requirement already satisfied: typing-extensions<5,>=4.7 in c:\\users\\josee\\appdata\\local\\packages\\pythonsoftwarefoundation.python.3.10_qbz5n2kfra8p0\\localcache\\local-packages\\python310\\site-packages (from openai) (4.8.0)\n",
      "Requirement already satisfied: idna>=2.8 in c:\\users\\josee\\appdata\\local\\packages\\pythonsoftwarefoundation.python.3.10_qbz5n2kfra8p0\\localcache\\local-packages\\python310\\site-packages (from anyio<5,>=3.5.0->openai) (3.4)\n",
      "Requirement already satisfied: exceptiongroup>=1.0.2 in c:\\users\\josee\\appdata\\local\\packages\\pythonsoftwarefoundation.python.3.10_qbz5n2kfra8p0\\localcache\\local-packages\\python310\\site-packages (from anyio<5,>=3.5.0->openai) (1.2.1)\n",
      "Requirement already satisfied: certifi in c:\\users\\josee\\appdata\\local\\packages\\pythonsoftwarefoundation.python.3.10_qbz5n2kfra8p0\\localcache\\local-packages\\python310\\site-packages (from httpx<1,>=0.23.0->openai) (2023.7.22)\n",
      "Requirement already satisfied: httpcore==1.* in c:\\users\\josee\\appdata\\local\\packages\\pythonsoftwarefoundation.python.3.10_qbz5n2kfra8p0\\localcache\\local-packages\\python310\\site-packages (from httpx<1,>=0.23.0->openai) (1.0.5)\n",
      "Requirement already satisfied: h11<0.15,>=0.13 in c:\\users\\josee\\appdata\\local\\packages\\pythonsoftwarefoundation.python.3.10_qbz5n2kfra8p0\\localcache\\local-packages\\python310\\site-packages (from httpcore==1.*->httpx<1,>=0.23.0->openai) (0.14.0)\n",
      "Requirement already satisfied: annotated-types>=0.4.0 in c:\\users\\josee\\appdata\\local\\packages\\pythonsoftwarefoundation.python.3.10_qbz5n2kfra8p0\\localcache\\local-packages\\python310\\site-packages (from pydantic<3,>=1.9.0->openai) (0.6.0)\n",
      "Requirement already satisfied: pydantic-core==2.18.2 in c:\\users\\josee\\appdata\\local\\packages\\pythonsoftwarefoundation.python.3.10_qbz5n2kfra8p0\\localcache\\local-packages\\python310\\site-packages (from pydantic<3,>=1.9.0->openai) (2.18.2)\n",
      "Requirement already satisfied: colorama in c:\\users\\josee\\appdata\\local\\packages\\pythonsoftwarefoundation.python.3.10_qbz5n2kfra8p0\\localcache\\local-packages\\python310\\site-packages (from tqdm>4->openai) (0.4.6)\n",
      "Note: you may need to restart the kernel to use updated packages.\n"
     ]
    }
   ],
   "source": [
    "pip install openai"
   ]
  },
  {
   "cell_type": "code",
   "execution_count": 3,
   "metadata": {},
   "outputs": [
    {
     "name": "stdout",
     "output_type": "stream",
     "text": [
      "Collecting sentence_transformers\n",
      "  Downloading sentence_transformers-2.7.0-py3-none-any.whl.metadata (11 kB)\n",
      "Collecting transformers<5.0.0,>=4.34.0 (from sentence_transformers)\n",
      "  Downloading transformers-4.40.2-py3-none-any.whl.metadata (137 kB)\n",
      "     ---------------------------------------- 0.0/138.0 kB ? eta -:--:--\n",
      "     ---------- -------------------------- 41.0/138.0 kB 991.0 kB/s eta 0:00:01\n",
      "     ------------------------------- ------ 112.6/138.0 kB 1.3 MB/s eta 0:00:01\n",
      "     -------------------------------------- 138.0/138.0 kB 1.4 MB/s eta 0:00:00\n",
      "Requirement already satisfied: tqdm in c:\\users\\josee\\appdata\\local\\packages\\pythonsoftwarefoundation.python.3.10_qbz5n2kfra8p0\\localcache\\local-packages\\python310\\site-packages (from sentence_transformers) (4.66.4)\n",
      "Requirement already satisfied: torch>=1.11.0 in c:\\users\\josee\\appdata\\local\\packages\\pythonsoftwarefoundation.python.3.10_qbz5n2kfra8p0\\localcache\\local-packages\\python310\\site-packages (from sentence_transformers) (2.3.0)\n",
      "Requirement already satisfied: numpy in c:\\users\\josee\\appdata\\local\\packages\\pythonsoftwarefoundation.python.3.10_qbz5n2kfra8p0\\localcache\\local-packages\\python310\\site-packages (from sentence_transformers) (1.26.1)\n",
      "Requirement already satisfied: scikit-learn in c:\\users\\josee\\appdata\\local\\packages\\pythonsoftwarefoundation.python.3.10_qbz5n2kfra8p0\\localcache\\local-packages\\python310\\site-packages (from sentence_transformers) (1.4.2)\n",
      "Requirement already satisfied: scipy in c:\\users\\josee\\appdata\\local\\packages\\pythonsoftwarefoundation.python.3.10_qbz5n2kfra8p0\\localcache\\local-packages\\python310\\site-packages (from sentence_transformers) (1.13.0)\n",
      "Requirement already satisfied: huggingface-hub>=0.15.1 in c:\\users\\josee\\appdata\\local\\packages\\pythonsoftwarefoundation.python.3.10_qbz5n2kfra8p0\\localcache\\local-packages\\python310\\site-packages (from sentence_transformers) (0.23.0)\n",
      "Requirement already satisfied: Pillow in c:\\users\\josee\\appdata\\local\\packages\\pythonsoftwarefoundation.python.3.10_qbz5n2kfra8p0\\localcache\\local-packages\\python310\\site-packages (from sentence_transformers) (10.1.0)\n",
      "Requirement already satisfied: filelock in c:\\users\\josee\\appdata\\local\\packages\\pythonsoftwarefoundation.python.3.10_qbz5n2kfra8p0\\localcache\\local-packages\\python310\\site-packages (from huggingface-hub>=0.15.1->sentence_transformers) (3.13.1)\n",
      "Requirement already satisfied: fsspec>=2023.5.0 in c:\\users\\josee\\appdata\\local\\packages\\pythonsoftwarefoundation.python.3.10_qbz5n2kfra8p0\\localcache\\local-packages\\python310\\site-packages (from huggingface-hub>=0.15.1->sentence_transformers) (2024.5.0)\n",
      "Requirement already satisfied: packaging>=20.9 in c:\\users\\josee\\appdata\\local\\packages\\pythonsoftwarefoundation.python.3.10_qbz5n2kfra8p0\\localcache\\local-packages\\python310\\site-packages (from huggingface-hub>=0.15.1->sentence_transformers) (23.2)\n",
      "Requirement already satisfied: pyyaml>=5.1 in c:\\users\\josee\\appdata\\local\\packages\\pythonsoftwarefoundation.python.3.10_qbz5n2kfra8p0\\localcache\\local-packages\\python310\\site-packages (from huggingface-hub>=0.15.1->sentence_transformers) (6.0.1)\n",
      "Requirement already satisfied: requests in c:\\users\\josee\\appdata\\local\\packages\\pythonsoftwarefoundation.python.3.10_qbz5n2kfra8p0\\localcache\\local-packages\\python310\\site-packages (from huggingface-hub>=0.15.1->sentence_transformers) (2.31.0)\n",
      "Requirement already satisfied: typing-extensions>=3.7.4.3 in c:\\users\\josee\\appdata\\local\\packages\\pythonsoftwarefoundation.python.3.10_qbz5n2kfra8p0\\localcache\\local-packages\\python310\\site-packages (from huggingface-hub>=0.15.1->sentence_transformers) (4.8.0)\n",
      "Requirement already satisfied: sympy in c:\\users\\josee\\appdata\\local\\packages\\pythonsoftwarefoundation.python.3.10_qbz5n2kfra8p0\\localcache\\local-packages\\python310\\site-packages (from torch>=1.11.0->sentence_transformers) (1.12)\n",
      "Requirement already satisfied: networkx in c:\\users\\josee\\appdata\\local\\packages\\pythonsoftwarefoundation.python.3.10_qbz5n2kfra8p0\\localcache\\local-packages\\python310\\site-packages (from torch>=1.11.0->sentence_transformers) (3.3)\n",
      "Requirement already satisfied: jinja2 in c:\\users\\josee\\appdata\\local\\packages\\pythonsoftwarefoundation.python.3.10_qbz5n2kfra8p0\\localcache\\local-packages\\python310\\site-packages (from torch>=1.11.0->sentence_transformers) (3.1.2)\n",
      "Requirement already satisfied: mkl<=2021.4.0,>=2021.1.1 in c:\\users\\josee\\appdata\\local\\packages\\pythonsoftwarefoundation.python.3.10_qbz5n2kfra8p0\\localcache\\local-packages\\python310\\site-packages (from torch>=1.11.0->sentence_transformers) (2021.4.0)\n",
      "Requirement already satisfied: colorama in c:\\users\\josee\\appdata\\local\\packages\\pythonsoftwarefoundation.python.3.10_qbz5n2kfra8p0\\localcache\\local-packages\\python310\\site-packages (from tqdm->sentence_transformers) (0.4.6)\n",
      "Requirement already satisfied: regex!=2019.12.17 in c:\\users\\josee\\appdata\\local\\packages\\pythonsoftwarefoundation.python.3.10_qbz5n2kfra8p0\\localcache\\local-packages\\python310\\site-packages (from transformers<5.0.0,>=4.34.0->sentence_transformers) (2024.5.15)\n",
      "Requirement already satisfied: tokenizers<0.20,>=0.19 in c:\\users\\josee\\appdata\\local\\packages\\pythonsoftwarefoundation.python.3.10_qbz5n2kfra8p0\\localcache\\local-packages\\python310\\site-packages (from transformers<5.0.0,>=4.34.0->sentence_transformers) (0.19.1)\n",
      "Requirement already satisfied: safetensors>=0.4.1 in c:\\users\\josee\\appdata\\local\\packages\\pythonsoftwarefoundation.python.3.10_qbz5n2kfra8p0\\localcache\\local-packages\\python310\\site-packages (from transformers<5.0.0,>=4.34.0->sentence_transformers) (0.4.3)\n",
      "Requirement already satisfied: joblib>=1.2.0 in c:\\users\\josee\\appdata\\local\\packages\\pythonsoftwarefoundation.python.3.10_qbz5n2kfra8p0\\localcache\\local-packages\\python310\\site-packages (from scikit-learn->sentence_transformers) (1.4.2)\n",
      "Requirement already satisfied: threadpoolctl>=2.0.0 in c:\\users\\josee\\appdata\\local\\packages\\pythonsoftwarefoundation.python.3.10_qbz5n2kfra8p0\\localcache\\local-packages\\python310\\site-packages (from scikit-learn->sentence_transformers) (3.5.0)\n",
      "Requirement already satisfied: intel-openmp==2021.* in c:\\users\\josee\\appdata\\local\\packages\\pythonsoftwarefoundation.python.3.10_qbz5n2kfra8p0\\localcache\\local-packages\\python310\\site-packages (from mkl<=2021.4.0,>=2021.1.1->torch>=1.11.0->sentence_transformers) (2021.4.0)\n",
      "Requirement already satisfied: tbb==2021.* in c:\\users\\josee\\appdata\\local\\packages\\pythonsoftwarefoundation.python.3.10_qbz5n2kfra8p0\\localcache\\local-packages\\python310\\site-packages (from mkl<=2021.4.0,>=2021.1.1->torch>=1.11.0->sentence_transformers) (2021.12.0)\n",
      "Requirement already satisfied: MarkupSafe>=2.0 in c:\\users\\josee\\appdata\\local\\packages\\pythonsoftwarefoundation.python.3.10_qbz5n2kfra8p0\\localcache\\local-packages\\python310\\site-packages (from jinja2->torch>=1.11.0->sentence_transformers) (2.1.3)\n",
      "Requirement already satisfied: charset-normalizer<4,>=2 in c:\\users\\josee\\appdata\\local\\packages\\pythonsoftwarefoundation.python.3.10_qbz5n2kfra8p0\\localcache\\local-packages\\python310\\site-packages (from requests->huggingface-hub>=0.15.1->sentence_transformers) (3.3.2)\n",
      "Requirement already satisfied: idna<4,>=2.5 in c:\\users\\josee\\appdata\\local\\packages\\pythonsoftwarefoundation.python.3.10_qbz5n2kfra8p0\\localcache\\local-packages\\python310\\site-packages (from requests->huggingface-hub>=0.15.1->sentence_transformers) (3.4)\n",
      "Requirement already satisfied: urllib3<3,>=1.21.1 in c:\\users\\josee\\appdata\\local\\packages\\pythonsoftwarefoundation.python.3.10_qbz5n2kfra8p0\\localcache\\local-packages\\python310\\site-packages (from requests->huggingface-hub>=0.15.1->sentence_transformers) (2.0.7)\n",
      "Requirement already satisfied: certifi>=2017.4.17 in c:\\users\\josee\\appdata\\local\\packages\\pythonsoftwarefoundation.python.3.10_qbz5n2kfra8p0\\localcache\\local-packages\\python310\\site-packages (from requests->huggingface-hub>=0.15.1->sentence_transformers) (2023.7.22)\n",
      "Requirement already satisfied: mpmath>=0.19 in c:\\users\\josee\\appdata\\local\\packages\\pythonsoftwarefoundation.python.3.10_qbz5n2kfra8p0\\localcache\\local-packages\\python310\\site-packages (from sympy->torch>=1.11.0->sentence_transformers) (1.3.0)\n",
      "Downloading sentence_transformers-2.7.0-py3-none-any.whl (171 kB)\n",
      "   ---------------------------------------- 0.0/171.5 kB ? eta -:--:--\n",
      "   ---------------------------------------- 171.5/171.5 kB 5.2 MB/s eta 0:00:00\n",
      "Downloading transformers-4.40.2-py3-none-any.whl (9.0 MB)\n",
      "   ---------------------------------------- 0.0/9.0 MB ? eta -:--:--\n",
      "   ---------------------------------------- 0.1/9.0 MB 1.3 MB/s eta 0:00:07\n",
      "    --------------------------------------- 0.2/9.0 MB 1.7 MB/s eta 0:00:06\n",
      "   - -------------------------------------- 0.4/9.0 MB 2.8 MB/s eta 0:00:04\n",
      "   -- ------------------------------------- 0.5/9.0 MB 2.9 MB/s eta 0:00:03\n",
      "   --- ------------------------------------ 0.7/9.0 MB 3.0 MB/s eta 0:00:03\n",
      "   --- ------------------------------------ 0.8/9.0 MB 3.2 MB/s eta 0:00:03\n",
      "   ---- ----------------------------------- 1.0/9.0 MB 3.4 MB/s eta 0:00:03\n",
      "   ---- ----------------------------------- 1.1/9.0 MB 2.9 MB/s eta 0:00:03\n",
      "   ----- ---------------------------------- 1.2/9.0 MB 2.8 MB/s eta 0:00:03\n",
      "   ----- ---------------------------------- 1.3/9.0 MB 2.7 MB/s eta 0:00:03\n",
      "   ------ --------------------------------- 1.5/9.0 MB 2.9 MB/s eta 0:00:03\n",
      "   ------ --------------------------------- 1.5/9.0 MB 2.6 MB/s eta 0:00:03\n",
      "   ------- -------------------------------- 1.7/9.0 MB 2.6 MB/s eta 0:00:03\n",
      "   -------- ------------------------------- 1.8/9.0 MB 2.7 MB/s eta 0:00:03\n",
      "   -------- ------------------------------- 2.0/9.0 MB 2.8 MB/s eta 0:00:03\n",
      "   --------- ------------------------------ 2.1/9.0 MB 2.8 MB/s eta 0:00:03\n",
      "   --------- ------------------------------ 2.2/9.0 MB 2.8 MB/s eta 0:00:03\n",
      "   --------- ------------------------------ 2.2/9.0 MB 2.6 MB/s eta 0:00:03\n",
      "   ---------- ----------------------------- 2.4/9.0 MB 2.7 MB/s eta 0:00:03\n",
      "   ---------- ----------------------------- 2.4/9.0 MB 2.6 MB/s eta 0:00:03\n",
      "   ----------- ---------------------------- 2.6/9.0 MB 2.6 MB/s eta 0:00:03\n",
      "   ------------ --------------------------- 2.8/9.0 MB 2.6 MB/s eta 0:00:03\n",
      "   ------------ --------------------------- 2.9/9.0 MB 2.7 MB/s eta 0:00:03\n",
      "   ------------- -------------------------- 2.9/9.0 MB 2.6 MB/s eta 0:00:03\n",
      "   ------------- -------------------------- 3.1/9.0 MB 2.6 MB/s eta 0:00:03\n",
      "   -------------- ------------------------- 3.3/9.0 MB 2.7 MB/s eta 0:00:03\n",
      "   -------------- ------------------------- 3.3/9.0 MB 2.7 MB/s eta 0:00:03\n",
      "   --------------- ------------------------ 3.4/9.0 MB 2.7 MB/s eta 0:00:03\n",
      "   --------------- ------------------------ 3.5/9.0 MB 2.6 MB/s eta 0:00:03\n",
      "   --------------- ------------------------ 3.5/9.0 MB 2.5 MB/s eta 0:00:03\n",
      "   --------------- ------------------------ 3.5/9.0 MB 2.5 MB/s eta 0:00:03\n",
      "   ---------------- ----------------------- 3.6/9.0 MB 2.4 MB/s eta 0:00:03\n",
      "   ---------------- ----------------------- 3.7/9.0 MB 2.4 MB/s eta 0:00:03\n",
      "   ---------------- ----------------------- 3.7/9.0 MB 2.3 MB/s eta 0:00:03\n",
      "   ---------------- ----------------------- 3.8/9.0 MB 2.3 MB/s eta 0:00:03\n",
      "   ----------------- ---------------------- 3.9/9.0 MB 2.3 MB/s eta 0:00:03\n",
      "   ------------------ --------------------- 4.1/9.0 MB 2.3 MB/s eta 0:00:03\n",
      "   ------------------ --------------------- 4.1/9.0 MB 2.3 MB/s eta 0:00:03\n",
      "   ------------------- -------------------- 4.4/9.0 MB 2.4 MB/s eta 0:00:02\n",
      "   -------------------- ------------------- 4.5/9.0 MB 2.4 MB/s eta 0:00:02\n",
      "   -------------------- ------------------- 4.6/9.0 MB 2.4 MB/s eta 0:00:02\n",
      "   --------------------- ------------------ 4.9/9.0 MB 2.5 MB/s eta 0:00:02\n",
      "   ---------------------- ----------------- 5.1/9.0 MB 2.5 MB/s eta 0:00:02\n",
      "   ----------------------- ---------------- 5.2/9.0 MB 2.5 MB/s eta 0:00:02\n",
      "   ----------------------- ---------------- 5.4/9.0 MB 2.5 MB/s eta 0:00:02\n",
      "   ------------------------- -------------- 5.6/9.0 MB 2.6 MB/s eta 0:00:02\n",
      "   -------------------------- ------------- 5.9/9.0 MB 2.7 MB/s eta 0:00:02\n",
      "   -------------------------- ------------- 6.0/9.0 MB 2.7 MB/s eta 0:00:02\n",
      "   -------------------------- ------------- 6.1/9.0 MB 2.6 MB/s eta 0:00:02\n",
      "   ---------------------------- ----------- 6.3/9.0 MB 2.7 MB/s eta 0:00:01\n",
      "   ----------------------------- ---------- 6.6/9.0 MB 2.7 MB/s eta 0:00:01\n",
      "   ----------------------------- ---------- 6.6/9.0 MB 2.7 MB/s eta 0:00:01\n",
      "   ----------------------------- ---------- 6.7/9.0 MB 2.7 MB/s eta 0:00:01\n",
      "   ------------------------------- -------- 7.0/9.0 MB 2.8 MB/s eta 0:00:01\n",
      "   ------------------------------- -------- 7.2/9.0 MB 2.8 MB/s eta 0:00:01\n",
      "   -------------------------------- ------- 7.4/9.0 MB 2.8 MB/s eta 0:00:01\n",
      "   --------------------------------- ------ 7.5/9.0 MB 2.8 MB/s eta 0:00:01\n",
      "   --------------------------------- ------ 7.6/9.0 MB 2.8 MB/s eta 0:00:01\n",
      "   ---------------------------------- ----- 7.7/9.0 MB 2.8 MB/s eta 0:00:01\n",
      "   ---------------------------------- ----- 7.9/9.0 MB 2.8 MB/s eta 0:00:01\n",
      "   ----------------------------------- ---- 8.1/9.0 MB 2.8 MB/s eta 0:00:01\n",
      "   ------------------------------------ --- 8.3/9.0 MB 2.8 MB/s eta 0:00:01\n",
      "   -------------------------------------- - 8.6/9.0 MB 2.9 MB/s eta 0:00:01\n",
      "   ---------------------------------------  8.8/9.0 MB 2.9 MB/s eta 0:00:01\n",
      "   ---------------------------------------  9.0/9.0 MB 2.9 MB/s eta 0:00:01\n",
      "   ---------------------------------------- 9.0/9.0 MB 2.9 MB/s eta 0:00:00\n",
      "Installing collected packages: transformers, sentence_transformers\n",
      "Note: you may need to restart the kernel to use updated packages.\n"
     ]
    },
    {
     "name": "stderr",
     "output_type": "stream",
     "text": [
      "ERROR: Could not install packages due to an OSError: [Errno 2] No such file or directory: 'C:\\\\Users\\\\josee\\\\AppData\\\\Local\\\\Packages\\\\PythonSoftwareFoundation.Python.3.10_qbz5n2kfra8p0\\\\LocalCache\\\\local-packages\\\\Python310\\\\site-packages\\\\transformers\\\\models\\\\deprecated\\\\trajectory_transformer\\\\convert_trajectory_transformer_original_pytorch_checkpoint_to_pytorch.py'\n",
      "HINT: This error might have occurred since this system does not have Windows Long Path support enabled. You can find information on how to enable this at https://pip.pypa.io/warnings/enable-long-paths\n",
      "\n"
     ]
    }
   ],
   "source": [
    "pip install sentence_transformers"
   ]
  },
  {
   "cell_type": "code",
   "execution_count": null,
   "metadata": {},
   "outputs": [],
   "source": [
    "pip install annoy"
   ]
  },
  {
   "cell_type": "code",
   "execution_count": null,
   "metadata": {},
   "outputs": [],
   "source": [
    "import os\n",
    "from openai import AzureOpenAI\n",
    "\n",
    "client = AzureOpenAI(\n",
    "  azure_endpoint = \"https://uscldgaioas01.openai.azure.com/\", \n",
    "  api_key=\"c3ac88cfb8aa46cf93a24bfe183f94e5\",  \n",
    "  api_version=\"2024-02-01\"\n",
    ")"
   ]
  },
  {
   "cell_type": "code",
   "execution_count": null,
   "metadata": {},
   "outputs": [],
   "source": [
    "from sentence_transformers import SentenceTransformer\n",
    "import glob\n",
    "from PIL import Image\n",
    "from annoy import AnnoyIndex"
   ]
  },
  {
   "cell_type": "code",
   "execution_count": null,
   "metadata": {},
   "outputs": [],
   "source": [
    "files = glob.glob(\"C:/Users/joseeDownloads/Actividad 2 Aviso de privacidad requisito 5 y 6.pdf\")\n",
    "len(files)"
   ]
  }
 ],
 "metadata": {
  "kernelspec": {
   "display_name": "Python 3",
   "language": "python",
   "name": "python3"
  },
  "language_info": {
   "codemirror_mode": {
    "name": "ipython",
    "version": 3
   },
   "file_extension": ".py",
   "mimetype": "text/x-python",
   "name": "python",
   "nbconvert_exporter": "python",
   "pygments_lexer": "ipython3",
   "version": "3.10.11"
  }
 },
 "nbformat": 4,
 "nbformat_minor": 2
}
