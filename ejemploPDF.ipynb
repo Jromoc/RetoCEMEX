{
 "cells": [
  {
   "cell_type": "code",
   "execution_count": 6,
   "metadata": {},
   "outputs": [
    {
     "name": "stderr",
     "output_type": "stream",
     "text": [
      "c:\\Users\\sebas\\AppData\\Local\\Programs\\Python\\Python312\\Lib\\site-packages\\tqdm\\auto.py:21: TqdmWarning: IProgress not found. Please update jupyter and ipywidgets. See https://ipywidgets.readthedocs.io/en/stable/user_install.html\n",
      "  from .autonotebook import tqdm as notebook_tqdm\n"
     ]
    }
   ],
   "source": [
    "import os\n",
    "import glob\n",
    "import fitz\n",
    "from sentence_transformers import SentenceTransformer\n",
    "from annoy import AnnoyIndex"
   ]
  },
  {
   "cell_type": "code",
   "execution_count": 24,
   "metadata": {},
   "outputs": [],
   "source": [
    "# Ruta al directorio que contiene los archivos PDF\n",
    "pdf_dir = \"C:/Users/sebas/OneDrive/Documentos/Codigos Cemex/pdf\"\n",
    "\n",
    "# Ruta al modelo, por ejemplo, 'clip-ViT-L-14'\n",
    "model_path = \"clip-ViT-L-14\"\n",
    "\n",
    "# Cargar el modelo SentenceTransformer\n",
    "model = SentenceTransformer(model_path)\n",
    "\n",
    "# Función para extraer texto de los archivos PDF\n",
    "def extraer_texto_de_pdf(pdf_path, max_length=77):\n",
    "    texto = \"\"\n",
    "    try:\n",
    "        with fitz.open(pdf_path) as archivo_pdf:\n",
    "            for num_pagina in range(len(archivo_pdf)):\n",
    "                pagina = archivo_pdf[num_pagina]\n",
    "                texto_pagina = pagina.get_text()\n",
    "                # Truncar el texto de la página si es necesario\n",
    "                if len(texto) + len(texto_pagina) > max_length:\n",
    "                    texto_pagina = texto_pagina[:max_length - len(texto)]\n",
    "                texto += texto_pagina\n",
    "    except Exception as e:\n",
    "        print(f\"Error al leer el archivo PDF {pdf_path}: {e}\")\n",
    "    return texto\n"
   ]
  },
  {
   "cell_type": "code",
   "execution_count": 34,
   "metadata": {},
   "outputs": [],
   "source": [
    "# Consulta de búsqueda\n",
    "consulta = \"ALQUILER DE VEHÍCULOS\"\n",
    "\n",
    "# Buscar archivos PDF\n",
    "archivos = glob.glob(os.path.join(pdf_dir, \"*.pdf\"))"
   ]
  },
  {
   "cell_type": "code",
   "execution_count": 35,
   "metadata": {},
   "outputs": [
    {
     "data": {
      "text/plain": [
       "True"
      ]
     },
     "execution_count": 35,
     "metadata": {},
     "output_type": "execute_result"
    }
   ],
   "source": [
    "# Indexar archivos PDF\n",
    "annoy_index = AnnoyIndex(768, metric='angular')\n",
    "for idx, archivo in enumerate(archivos):\n",
    "    texto = extraer_texto_de_pdf(archivo)\n",
    "    incrustacion = model.encode([texto])[0]\n",
    "    annoy_index.add_item(idx, incrustacion)\n",
    "annoy_index.build(10)"
   ]
  },
  {
   "cell_type": "code",
   "execution_count": 36,
   "metadata": {},
   "outputs": [],
   "source": [
    "# Codificar la consulta y encontrar archivos PDF similares\n",
    "incrustacion_consulta = model.encode([consulta])[0]\n",
    "indices_mas_cercanos, distancias_mas_cercanas = annoy_index.get_nns_by_vector(incrustacion_consulta, 5, include_distances=True)"
   ]
  },
  {
   "cell_type": "code",
   "execution_count": 37,
   "metadata": {},
   "outputs": [
    {
     "name": "stdout",
     "output_type": "stream",
     "text": [
      "C:/Users/sebas/OneDrive/Documentos/Codigos Cemex/pdf\\Ejemplo1.pdf 0.7448084354400635\n",
      "C:/Users/sebas/OneDrive/Documentos/Codigos Cemex/pdf\\Ejemplo2.pdf 0.7448084354400635\n",
      "C:/Users/sebas/OneDrive/Documentos/Codigos Cemex/pdf\\Ejemplo3.pdf 0.9151697754859924\n"
     ]
    }
   ],
   "source": [
    "# Mostrar o procesar los archivos PDF más cercanos\n",
    "for idx, distancia in zip(indices_mas_cercanos, distancias_mas_cercanas):\n",
    "    print(archivos[idx], distancia)"
   ]
  },
  {
   "cell_type": "code",
   "execution_count": 33,
   "metadata": {},
   "outputs": [
    {
     "ename": "NameError",
     "evalue": "name 'embeddings' is not defined",
     "output_type": "error",
     "traceback": [
      "\u001b[1;31m---------------------------------------------------------------------------\u001b[0m",
      "\u001b[1;31mNameError\u001b[0m                                 Traceback (most recent call last)",
      "Cell \u001b[1;32mIn[33], line 1\u001b[0m\n\u001b[1;32m----> 1\u001b[0m \u001b[38;5;28mprint\u001b[39m(\u001b[43membeddings\u001b[49m\u001b[38;5;241m.\u001b[39mshape)\n",
      "\u001b[1;31mNameError\u001b[0m: name 'embeddings' is not defined"
     ]
    }
   ],
   "source": [
    "print(embeddings.shape)\n"
   ]
  }
 ],
 "metadata": {
  "kernelspec": {
   "display_name": "Python 3",
   "language": "python",
   "name": "python3"
  },
  "language_info": {
   "codemirror_mode": {
    "name": "ipython",
    "version": 3
   },
   "file_extension": ".py",
   "mimetype": "text/x-python",
   "name": "python",
   "nbconvert_exporter": "python",
   "pygments_lexer": "ipython3",
   "version": "3.12.3"
  }
 },
 "nbformat": 4,
 "nbformat_minor": 2
}
